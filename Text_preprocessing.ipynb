{
  "nbformat": 4,
  "nbformat_minor": 0,
  "metadata": {
    "colab": {
      "provenance": [],
      "authorship_tag": "ABX9TyO/4md0askuX8U9kFJEsnxK",
      "include_colab_link": true
    },
    "kernelspec": {
      "name": "python3",
      "display_name": "Python 3"
    },
    "language_info": {
      "name": "python"
    }
  },
  "cells": [
    {
      "cell_type": "markdown",
      "metadata": {
        "id": "view-in-github",
        "colab_type": "text"
      },
      "source": [
        "<a href=\"https://colab.research.google.com/github/Ehtisham1053/Natural-Language-Processing/blob/main/Text_preprocessing.ipynb\" target=\"_parent\"><img src=\"https://colab.research.google.com/assets/colab-badge.svg\" alt=\"Open In Colab\"/></a>"
      ]
    },
    {
      "cell_type": "code",
      "execution_count": 1,
      "metadata": {
        "id": "a3zMj7ynEPJU",
        "colab": {
          "base_uri": "https://localhost:8080/",
          "height": 36
        },
        "outputId": "6b10a6f9-1414-4943-e3b4-6938b51438d5"
      },
      "outputs": [
        {
          "output_type": "execute_result",
          "data": {
            "text/plain": [
              "'movie_reviews_dataset.csv'"
            ],
            "application/vnd.google.colaboratory.intrinsic+json": {
              "type": "string"
            }
          },
          "metadata": {},
          "execution_count": 1
        }
      ],
      "source": [
        "import pandas as pd\n",
        "import random\n",
        "\n",
        "# Define sample movie names, genres, and example review components\n",
        "movie_names = [\"Titanic\", \"The Conjuring\", \"Avatar\", \"Inception\", \"La La Land\", \"The Matrix\", \"Interstellar\",\n",
        "               \"The Godfather\", \"Parasite\", \"Joker\", \"Shutter Island\", \"The Dark Knight\", \"Pulp Fiction\",\n",
        "               \"Fight Club\", \"Forrest Gump\", \"Gladiator\", \"The Revenant\", \"Avengers\", \"Spider-Man\", \"Deadpool\"]\n",
        "genres = [\"Romantic\", \"Horror\", \"Sci-Fi\", \"Thriller\", \"Musical\", \"Action\", \"Drama\", \"Mystery\", \"Comedy\"]\n",
        "\n",
        "# Sample text patterns to introduce preprocessing challenges\n",
        "html_tags = [\"<b>amazing</b>\", \"<i>scary</i>\", \"<div>must watch</div>\"]\n",
        "urls = [\"https://movies.com\", \"www.watchnow.com\", \"http://imdb.com\"]\n",
        "abbreviations = [\"gr8\", \"omg\", \"u\", \"btw\", \"luv\", \"wont\", \"dont\", \"hes\", \"shes\", \"cant\", \"im\"]\n",
        "emojis = [\"💖\", \"😭\", \"😨\", \"🤯\", \"🎥\", \"❤️\", \"🌟\", \"😂\", \"🔥\", \"😎\"]\n",
        "\n",
        "# Generate 100 rows of movie reviews\n",
        "data = []\n",
        "for _ in range(100):\n",
        "    movie = random.choice(movie_names)\n",
        "    genre = random.choice(genres)\n",
        "    review = f\"This movie was {random.choice(html_tags)} {random.choice(emojis)}. \"\n",
        "    review += f\"Totally {random.choice(['mind-blowing!', 'terrifying!', 'boring!', 'thrilling!', 'unexpected!'])} \"\n",
        "    review += f\"{random.choice(urls)} \"\n",
        "    review += f\"I think it's {random.choice(abbreviations)}!\"\n",
        "\n",
        "    data.append([movie, review, genre])\n",
        "\n",
        "# Convert to DataFrame\n",
        "df = pd.DataFrame(data, columns=[\"Movie Name\", \"Review\", \"Genre\"])\n",
        "\n",
        "# Save to CSV\n",
        "file_path = \"movie_reviews_dataset.csv\"\n",
        "df.to_csv(file_path, index=False)\n",
        "\n",
        "file_path\n"
      ]
    },
    {
      "cell_type": "code",
      "source": [
        "df = pd.read_csv(file_path)\n",
        "df.head()"
      ],
      "metadata": {
        "colab": {
          "base_uri": "https://localhost:8080/",
          "height": 206
        },
        "id": "zlrdjny45a74",
        "outputId": "dbb64cff-c7eb-45aa-ee9b-f4d9641ada3f"
      },
      "execution_count": 2,
      "outputs": [
        {
          "output_type": "execute_result",
          "data": {
            "text/plain": [
              "     Movie Name                                             Review    Genre\n",
              "0    Fight Club  This movie was <b>amazing</b> 😂. Totally terri...    Drama\n",
              "1      Deadpool  This movie was <i>scary</i> 🤯. Totally mind-bl...   Horror\n",
              "2  Interstellar  This movie was <b>amazing</b> ❤️. Totally thri...  Musical\n",
              "3      Avengers  This movie was <i>scary</i> 🌟. Totally unexpec...   Action\n",
              "4    La La Land  This movie was <b>amazing</b> ❤️. Totally bori...    Drama"
            ],
            "text/html": [
              "\n",
              "  <div id=\"df-d91d0ce7-095a-4b31-b69e-6ee30ae7020a\" class=\"colab-df-container\">\n",
              "    <div>\n",
              "<style scoped>\n",
              "    .dataframe tbody tr th:only-of-type {\n",
              "        vertical-align: middle;\n",
              "    }\n",
              "\n",
              "    .dataframe tbody tr th {\n",
              "        vertical-align: top;\n",
              "    }\n",
              "\n",
              "    .dataframe thead th {\n",
              "        text-align: right;\n",
              "    }\n",
              "</style>\n",
              "<table border=\"1\" class=\"dataframe\">\n",
              "  <thead>\n",
              "    <tr style=\"text-align: right;\">\n",
              "      <th></th>\n",
              "      <th>Movie Name</th>\n",
              "      <th>Review</th>\n",
              "      <th>Genre</th>\n",
              "    </tr>\n",
              "  </thead>\n",
              "  <tbody>\n",
              "    <tr>\n",
              "      <th>0</th>\n",
              "      <td>Fight Club</td>\n",
              "      <td>This movie was &lt;b&gt;amazing&lt;/b&gt; 😂. Totally terri...</td>\n",
              "      <td>Drama</td>\n",
              "    </tr>\n",
              "    <tr>\n",
              "      <th>1</th>\n",
              "      <td>Deadpool</td>\n",
              "      <td>This movie was &lt;i&gt;scary&lt;/i&gt; 🤯. Totally mind-bl...</td>\n",
              "      <td>Horror</td>\n",
              "    </tr>\n",
              "    <tr>\n",
              "      <th>2</th>\n",
              "      <td>Interstellar</td>\n",
              "      <td>This movie was &lt;b&gt;amazing&lt;/b&gt; ❤️. Totally thri...</td>\n",
              "      <td>Musical</td>\n",
              "    </tr>\n",
              "    <tr>\n",
              "      <th>3</th>\n",
              "      <td>Avengers</td>\n",
              "      <td>This movie was &lt;i&gt;scary&lt;/i&gt; 🌟. Totally unexpec...</td>\n",
              "      <td>Action</td>\n",
              "    </tr>\n",
              "    <tr>\n",
              "      <th>4</th>\n",
              "      <td>La La Land</td>\n",
              "      <td>This movie was &lt;b&gt;amazing&lt;/b&gt; ❤️. Totally bori...</td>\n",
              "      <td>Drama</td>\n",
              "    </tr>\n",
              "  </tbody>\n",
              "</table>\n",
              "</div>\n",
              "    <div class=\"colab-df-buttons\">\n",
              "\n",
              "  <div class=\"colab-df-container\">\n",
              "    <button class=\"colab-df-convert\" onclick=\"convertToInteractive('df-d91d0ce7-095a-4b31-b69e-6ee30ae7020a')\"\n",
              "            title=\"Convert this dataframe to an interactive table.\"\n",
              "            style=\"display:none;\">\n",
              "\n",
              "  <svg xmlns=\"http://www.w3.org/2000/svg\" height=\"24px\" viewBox=\"0 -960 960 960\">\n",
              "    <path d=\"M120-120v-720h720v720H120Zm60-500h600v-160H180v160Zm220 220h160v-160H400v160Zm0 220h160v-160H400v160ZM180-400h160v-160H180v160Zm440 0h160v-160H620v160ZM180-180h160v-160H180v160Zm440 0h160v-160H620v160Z\"/>\n",
              "  </svg>\n",
              "    </button>\n",
              "\n",
              "  <style>\n",
              "    .colab-df-container {\n",
              "      display:flex;\n",
              "      gap: 12px;\n",
              "    }\n",
              "\n",
              "    .colab-df-convert {\n",
              "      background-color: #E8F0FE;\n",
              "      border: none;\n",
              "      border-radius: 50%;\n",
              "      cursor: pointer;\n",
              "      display: none;\n",
              "      fill: #1967D2;\n",
              "      height: 32px;\n",
              "      padding: 0 0 0 0;\n",
              "      width: 32px;\n",
              "    }\n",
              "\n",
              "    .colab-df-convert:hover {\n",
              "      background-color: #E2EBFA;\n",
              "      box-shadow: 0px 1px 2px rgba(60, 64, 67, 0.3), 0px 1px 3px 1px rgba(60, 64, 67, 0.15);\n",
              "      fill: #174EA6;\n",
              "    }\n",
              "\n",
              "    .colab-df-buttons div {\n",
              "      margin-bottom: 4px;\n",
              "    }\n",
              "\n",
              "    [theme=dark] .colab-df-convert {\n",
              "      background-color: #3B4455;\n",
              "      fill: #D2E3FC;\n",
              "    }\n",
              "\n",
              "    [theme=dark] .colab-df-convert:hover {\n",
              "      background-color: #434B5C;\n",
              "      box-shadow: 0px 1px 3px 1px rgba(0, 0, 0, 0.15);\n",
              "      filter: drop-shadow(0px 1px 2px rgba(0, 0, 0, 0.3));\n",
              "      fill: #FFFFFF;\n",
              "    }\n",
              "  </style>\n",
              "\n",
              "    <script>\n",
              "      const buttonEl =\n",
              "        document.querySelector('#df-d91d0ce7-095a-4b31-b69e-6ee30ae7020a button.colab-df-convert');\n",
              "      buttonEl.style.display =\n",
              "        google.colab.kernel.accessAllowed ? 'block' : 'none';\n",
              "\n",
              "      async function convertToInteractive(key) {\n",
              "        const element = document.querySelector('#df-d91d0ce7-095a-4b31-b69e-6ee30ae7020a');\n",
              "        const dataTable =\n",
              "          await google.colab.kernel.invokeFunction('convertToInteractive',\n",
              "                                                    [key], {});\n",
              "        if (!dataTable) return;\n",
              "\n",
              "        const docLinkHtml = 'Like what you see? Visit the ' +\n",
              "          '<a target=\"_blank\" href=https://colab.research.google.com/notebooks/data_table.ipynb>data table notebook</a>'\n",
              "          + ' to learn more about interactive tables.';\n",
              "        element.innerHTML = '';\n",
              "        dataTable['output_type'] = 'display_data';\n",
              "        await google.colab.output.renderOutput(dataTable, element);\n",
              "        const docLink = document.createElement('div');\n",
              "        docLink.innerHTML = docLinkHtml;\n",
              "        element.appendChild(docLink);\n",
              "      }\n",
              "    </script>\n",
              "  </div>\n",
              "\n",
              "\n",
              "<div id=\"df-98533efd-4902-445d-aeeb-6af61e9b40f4\">\n",
              "  <button class=\"colab-df-quickchart\" onclick=\"quickchart('df-98533efd-4902-445d-aeeb-6af61e9b40f4')\"\n",
              "            title=\"Suggest charts\"\n",
              "            style=\"display:none;\">\n",
              "\n",
              "<svg xmlns=\"http://www.w3.org/2000/svg\" height=\"24px\"viewBox=\"0 0 24 24\"\n",
              "     width=\"24px\">\n",
              "    <g>\n",
              "        <path d=\"M19 3H5c-1.1 0-2 .9-2 2v14c0 1.1.9 2 2 2h14c1.1 0 2-.9 2-2V5c0-1.1-.9-2-2-2zM9 17H7v-7h2v7zm4 0h-2V7h2v10zm4 0h-2v-4h2v4z\"/>\n",
              "    </g>\n",
              "</svg>\n",
              "  </button>\n",
              "\n",
              "<style>\n",
              "  .colab-df-quickchart {\n",
              "      --bg-color: #E8F0FE;\n",
              "      --fill-color: #1967D2;\n",
              "      --hover-bg-color: #E2EBFA;\n",
              "      --hover-fill-color: #174EA6;\n",
              "      --disabled-fill-color: #AAA;\n",
              "      --disabled-bg-color: #DDD;\n",
              "  }\n",
              "\n",
              "  [theme=dark] .colab-df-quickchart {\n",
              "      --bg-color: #3B4455;\n",
              "      --fill-color: #D2E3FC;\n",
              "      --hover-bg-color: #434B5C;\n",
              "      --hover-fill-color: #FFFFFF;\n",
              "      --disabled-bg-color: #3B4455;\n",
              "      --disabled-fill-color: #666;\n",
              "  }\n",
              "\n",
              "  .colab-df-quickchart {\n",
              "    background-color: var(--bg-color);\n",
              "    border: none;\n",
              "    border-radius: 50%;\n",
              "    cursor: pointer;\n",
              "    display: none;\n",
              "    fill: var(--fill-color);\n",
              "    height: 32px;\n",
              "    padding: 0;\n",
              "    width: 32px;\n",
              "  }\n",
              "\n",
              "  .colab-df-quickchart:hover {\n",
              "    background-color: var(--hover-bg-color);\n",
              "    box-shadow: 0 1px 2px rgba(60, 64, 67, 0.3), 0 1px 3px 1px rgba(60, 64, 67, 0.15);\n",
              "    fill: var(--button-hover-fill-color);\n",
              "  }\n",
              "\n",
              "  .colab-df-quickchart-complete:disabled,\n",
              "  .colab-df-quickchart-complete:disabled:hover {\n",
              "    background-color: var(--disabled-bg-color);\n",
              "    fill: var(--disabled-fill-color);\n",
              "    box-shadow: none;\n",
              "  }\n",
              "\n",
              "  .colab-df-spinner {\n",
              "    border: 2px solid var(--fill-color);\n",
              "    border-color: transparent;\n",
              "    border-bottom-color: var(--fill-color);\n",
              "    animation:\n",
              "      spin 1s steps(1) infinite;\n",
              "  }\n",
              "\n",
              "  @keyframes spin {\n",
              "    0% {\n",
              "      border-color: transparent;\n",
              "      border-bottom-color: var(--fill-color);\n",
              "      border-left-color: var(--fill-color);\n",
              "    }\n",
              "    20% {\n",
              "      border-color: transparent;\n",
              "      border-left-color: var(--fill-color);\n",
              "      border-top-color: var(--fill-color);\n",
              "    }\n",
              "    30% {\n",
              "      border-color: transparent;\n",
              "      border-left-color: var(--fill-color);\n",
              "      border-top-color: var(--fill-color);\n",
              "      border-right-color: var(--fill-color);\n",
              "    }\n",
              "    40% {\n",
              "      border-color: transparent;\n",
              "      border-right-color: var(--fill-color);\n",
              "      border-top-color: var(--fill-color);\n",
              "    }\n",
              "    60% {\n",
              "      border-color: transparent;\n",
              "      border-right-color: var(--fill-color);\n",
              "    }\n",
              "    80% {\n",
              "      border-color: transparent;\n",
              "      border-right-color: var(--fill-color);\n",
              "      border-bottom-color: var(--fill-color);\n",
              "    }\n",
              "    90% {\n",
              "      border-color: transparent;\n",
              "      border-bottom-color: var(--fill-color);\n",
              "    }\n",
              "  }\n",
              "</style>\n",
              "\n",
              "  <script>\n",
              "    async function quickchart(key) {\n",
              "      const quickchartButtonEl =\n",
              "        document.querySelector('#' + key + ' button');\n",
              "      quickchartButtonEl.disabled = true;  // To prevent multiple clicks.\n",
              "      quickchartButtonEl.classList.add('colab-df-spinner');\n",
              "      try {\n",
              "        const charts = await google.colab.kernel.invokeFunction(\n",
              "            'suggestCharts', [key], {});\n",
              "      } catch (error) {\n",
              "        console.error('Error during call to suggestCharts:', error);\n",
              "      }\n",
              "      quickchartButtonEl.classList.remove('colab-df-spinner');\n",
              "      quickchartButtonEl.classList.add('colab-df-quickchart-complete');\n",
              "    }\n",
              "    (() => {\n",
              "      let quickchartButtonEl =\n",
              "        document.querySelector('#df-98533efd-4902-445d-aeeb-6af61e9b40f4 button');\n",
              "      quickchartButtonEl.style.display =\n",
              "        google.colab.kernel.accessAllowed ? 'block' : 'none';\n",
              "    })();\n",
              "  </script>\n",
              "</div>\n",
              "\n",
              "    </div>\n",
              "  </div>\n"
            ],
            "application/vnd.google.colaboratory.intrinsic+json": {
              "type": "dataframe",
              "variable_name": "df",
              "summary": "{\n  \"name\": \"df\",\n  \"rows\": 100,\n  \"fields\": [\n    {\n      \"column\": \"Movie Name\",\n      \"properties\": {\n        \"dtype\": \"category\",\n        \"num_unique_values\": 20,\n        \"samples\": [\n          \"Fight Club\",\n          \"The Dark Knight\",\n          \"Pulp Fiction\"\n        ],\n        \"semantic_type\": \"\",\n        \"description\": \"\"\n      }\n    },\n    {\n      \"column\": \"Review\",\n      \"properties\": {\n        \"dtype\": \"string\",\n        \"num_unique_values\": 98,\n        \"samples\": [\n          \"This movie was <i>scary</i> \\ud83d\\udc96. Totally unexpected! http://imdb.com I think it's btw!\",\n          \"This movie was <b>amazing</b> \\ud83d\\udc96. Totally boring! https://movies.com I think it's btw!\",\n          \"This movie was <div>must watch</div> \\ud83d\\ude2d. Totally thrilling! www.watchnow.com I think it's btw!\"\n        ],\n        \"semantic_type\": \"\",\n        \"description\": \"\"\n      }\n    },\n    {\n      \"column\": \"Genre\",\n      \"properties\": {\n        \"dtype\": \"category\",\n        \"num_unique_values\": 9,\n        \"samples\": [\n          \"Mystery\",\n          \"Horror\",\n          \"Romantic\"\n        ],\n        \"semantic_type\": \"\",\n        \"description\": \"\"\n      }\n    }\n  ]\n}"
            }
          },
          "metadata": {},
          "execution_count": 2
        }
      ]
    },
    {
      "cell_type": "markdown",
      "source": [
        "## 2. Lowercasing"
      ],
      "metadata": {
        "id": "6WY3KF0Q56zS"
      }
    },
    {
      "cell_type": "code",
      "source": [
        "df[\"Review\"] = df[\"Review\"].str.lower()\n"
      ],
      "metadata": {
        "id": "-a3R8hNc5g7c"
      },
      "execution_count": 3,
      "outputs": []
    },
    {
      "cell_type": "markdown",
      "source": [
        "## 3. Removing HTML Tags\n",
        "use the BeautifulSoup"
      ],
      "metadata": {
        "id": "Tw54d4Mg5-Ep"
      }
    },
    {
      "cell_type": "code",
      "source": [
        "from bs4 import BeautifulSoup\n",
        "\n",
        "def remove_html(text):\n",
        "    return BeautifulSoup(text, \"html.parser\").get_text()\n",
        "\n",
        "df[\"Review\"] = df[\"Review\"].apply(remove_html)\n"
      ],
      "metadata": {
        "id": "PwkHOSbN58hs"
      },
      "execution_count": 4,
      "outputs": []
    },
    {
      "cell_type": "markdown",
      "source": [
        "## 4. Removing URLs"
      ],
      "metadata": {
        "id": "voW390-w6Gwp"
      }
    },
    {
      "cell_type": "code",
      "source": [
        "import re\n",
        "\n",
        "def remove_urls(text):\n",
        "    return re.sub(r\"http\\S+|www\\S+|https\\S+\", \"\", text, flags=re.MULTILINE)\n",
        "\n",
        "df[\"Review\"] = df[\"Review\"].apply(remove_urls)\n"
      ],
      "metadata": {
        "id": "l9UEY2M06HYD"
      },
      "execution_count": 5,
      "outputs": []
    },
    {
      "cell_type": "markdown",
      "source": [
        "## 5. Removing Punctuation"
      ],
      "metadata": {
        "id": "aFbozmoN6Kz5"
      }
    },
    {
      "cell_type": "code",
      "source": [
        "import string\n",
        "\n",
        "def remove_punctuation(text):\n",
        "    return text.translate(str.maketrans(\"\", \"\", string.punctuation))\n",
        "\n",
        "df[\"Review\"] = df[\"Review\"].apply(remove_punctuation)\n"
      ],
      "metadata": {
        "id": "Oiwpqfdp6JIk"
      },
      "execution_count": 6,
      "outputs": []
    },
    {
      "cell_type": "markdown",
      "source": [
        "## 6. Handling Short/chat Words (Expanding Abbreviations)"
      ],
      "metadata": {
        "id": "NkB_QcAK6PnB"
      }
    },
    {
      "cell_type": "code",
      "source": [
        "short_words = {\n",
        "    \"u\": \"you\", \"r\": \"are\", \"ur\": \"your\", \"btw\": \"by the way\",\n",
        "    \"idk\": \"i do not know\", \"omg\": \"oh my god\", \"imo\": \"in my opinion\",\n",
        "    \"lol\": \"laugh out loud\", \"gn\": \"good night\", \"brb\": \"be right back\"\n",
        "}\n",
        "\n",
        "def expand_short_words(text):\n",
        "    words = text.split()\n",
        "    return \" \".join([short_words[word] if word in short_words else word for word in words])\n",
        "\n",
        "df[\"Review\"] = df[\"Review\"].apply(expand_short_words)\n"
      ],
      "metadata": {
        "id": "VMxgtph16M0k"
      },
      "execution_count": 7,
      "outputs": []
    },
    {
      "cell_type": "markdown",
      "source": [
        "## 7. Spell Checking"
      ],
      "metadata": {
        "id": "ctTRkapl6UKj"
      }
    },
    {
      "cell_type": "code",
      "source": [
        "from textblob import TextBlob\n",
        "\n",
        "def correct_spelling(text):\n",
        "    return str(TextBlob(text).correct())\n",
        "\n",
        "df[\"Review\"] = df[\"Review\"].apply(correct_spelling)\n"
      ],
      "metadata": {
        "id": "0R6D12Hs6SkE"
      },
      "execution_count": 8,
      "outputs": []
    },
    {
      "cell_type": "markdown",
      "source": [
        "## 8. Removing Stop Words"
      ],
      "metadata": {
        "id": "kAKLqqWz6a2R"
      }
    },
    {
      "cell_type": "code",
      "source": [
        "import nltk\n",
        "from nltk.corpus import stopwords\n",
        "\n",
        "nltk.download(\"stopwords\")\n",
        "stop_words = set(stopwords.words(\"english\"))\n",
        "\n",
        "def remove_stopwords(text):\n",
        "    words = text.split()\n",
        "    return \" \".join([word for word in words if word not in stop_words])\n",
        "\n",
        "df[\"Review\"] = df[\"Review\"].apply(remove_stopwords)\n"
      ],
      "metadata": {
        "colab": {
          "base_uri": "https://localhost:8080/"
        },
        "id": "kI7oC4lb6WAM",
        "outputId": "2e520ac7-4a58-4707-9239-674d2c341862"
      },
      "execution_count": 9,
      "outputs": [
        {
          "output_type": "stream",
          "name": "stderr",
          "text": [
            "[nltk_data] Downloading package stopwords to /root/nltk_data...\n",
            "[nltk_data]   Unzipping corpora/stopwords.zip.\n"
          ]
        }
      ]
    },
    {
      "cell_type": "markdown",
      "source": [
        "## 9. Handling Emojis"
      ],
      "metadata": {
        "id": "PYocxg_A6hbq"
      }
    },
    {
      "cell_type": "markdown",
      "source": [
        "we replace the emoji instead of removing them"
      ],
      "metadata": {
        "id": "5unIlwkh6kfy"
      }
    },
    {
      "cell_type": "code",
      "source": [
        "emoji_dict = {\n",
        "    \"💖\": \"love\", \"😭\": \"crying\", \"😨\": \"scared\", \"🤯\": \"mind-blown\", \"🎥\": \"movie\",\n",
        "    \"❤️\": \"heart\", \"🌟\": \"star\", \"😂\": \"laughing\", \"🔥\": \"fire\", \"😎\": \"cool\"\n",
        "}\n",
        "\n",
        "def replace_emojis(text):\n",
        "    for emoji_char, meaning in emoji_dict.items():\n",
        "        text = text.replace(emoji_char, meaning)\n",
        "    return text\n",
        "\n",
        "df[\"Review\"] = df[\"Review\"].apply(replace_emojis)\n"
      ],
      "metadata": {
        "id": "6q1jzYsb6dQM"
      },
      "execution_count": 10,
      "outputs": []
    },
    {
      "cell_type": "markdown",
      "source": [
        "## 10. Tokenization"
      ],
      "metadata": {
        "id": "9WhpKHcV6rKp"
      }
    },
    {
      "cell_type": "markdown",
      "source": [
        "word tokenization"
      ],
      "metadata": {
        "id": "16eh3xQN6tkx"
      }
    },
    {
      "cell_type": "code",
      "source": [
        "import nltk\n",
        "from nltk.tokenize import word_tokenize\n",
        "\n",
        "# Download the 'punkt_tab' data package for sentence tokenization\n",
        "nltk.download('punkt_tab')\n",
        "\n",
        "# Now apply word_tokenize to your DataFrame column\n",
        "df[\"Tokenized Review\"] = df[\"Review\"].apply(word_tokenize)"
      ],
      "metadata": {
        "colab": {
          "base_uri": "https://localhost:8080/"
        },
        "id": "SOFAhSNg6j8M",
        "outputId": "05be459f-bce1-4a68-adfe-742d828c9cd5"
      },
      "execution_count": 12,
      "outputs": [
        {
          "output_type": "stream",
          "name": "stderr",
          "text": [
            "[nltk_data] Downloading package punkt_tab to /root/nltk_data...\n",
            "[nltk_data]   Unzipping tokenizers/punkt_tab.zip.\n"
          ]
        }
      ]
    },
    {
      "cell_type": "markdown",
      "source": [
        "## 11. Stemming"
      ],
      "metadata": {
        "id": "kXBLG9mW654R"
      }
    },
    {
      "cell_type": "markdown",
      "source": [
        "Reduce words to their root form using PorterStemmer."
      ],
      "metadata": {
        "id": "77CwSEKg69dy"
      }
    },
    {
      "cell_type": "code",
      "source": [
        "from nltk.stem import PorterStemmer\n",
        "\n",
        "stemmer = PorterStemmer()\n",
        "\n",
        "def apply_stemming(words):\n",
        "    return [stemmer.stem(word) for word in words]\n",
        "\n",
        "df[\"Stemmed Review\"] = df[\"Tokenized Review\"].apply(apply_stemming)\n"
      ],
      "metadata": {
        "id": "bcGRaoyj624k"
      },
      "execution_count": 13,
      "outputs": []
    },
    {
      "cell_type": "markdown",
      "source": [
        "## 12. Lemmatization"
      ],
      "metadata": {
        "id": "M2AmvQA16_zx"
      }
    },
    {
      "cell_type": "markdown",
      "source": [
        "Reduce words to their base form using WordNet Lemmatizer."
      ],
      "metadata": {
        "id": "WG50bQnM7CZ-"
      }
    },
    {
      "cell_type": "code",
      "source": [
        "from nltk.stem import WordNetLemmatizer\n",
        "\n",
        "nltk.download(\"wordnet\")\n",
        "lemmatizer = WordNetLemmatizer()\n",
        "\n",
        "def apply_lemmatization(words):\n",
        "    return [lemmatizer.lemmatize(word) for word in words]\n",
        "\n",
        "df[\"Lemmatized Review\"] = df[\"Tokenized Review\"].apply(apply_lemmatization)\n"
      ],
      "metadata": {
        "colab": {
          "base_uri": "https://localhost:8080/"
        },
        "id": "zwxFZZAS6-Cl",
        "outputId": "76040561-d7dd-4f14-e084-af6afb81c3a4"
      },
      "execution_count": 14,
      "outputs": [
        {
          "output_type": "stream",
          "name": "stderr",
          "text": [
            "[nltk_data] Downloading package wordnet to /root/nltk_data...\n"
          ]
        }
      ]
    },
    {
      "cell_type": "code",
      "source": [
        "df.to_csv(\"movie_reviews_preprocessed.csv\", index=False)\n"
      ],
      "metadata": {
        "id": "6E1fkPuY7EkF"
      },
      "execution_count": 15,
      "outputs": []
    },
    {
      "cell_type": "code",
      "source": [
        "df1 = pd.read_csv(\"movie_reviews_preprocessed.csv\")\n",
        "df1.head()"
      ],
      "metadata": {
        "colab": {
          "base_uri": "https://localhost:8080/",
          "height": 310
        },
        "id": "pS_H5pKJ7JVM",
        "outputId": "584a86c4-5915-4967-d52b-6eaa849ed6d5"
      },
      "execution_count": 16,
      "outputs": [
        {
          "output_type": "execute_result",
          "data": {
            "text/plain": [
              "     Movie Name                                             Review    Genre  \\\n",
              "0    Fight Club    movie amazing laughing totally terrifying think    Drama   \n",
              "1      Deadpool  movie scar mind-blown totally mindblowing thin...   Horror   \n",
              "2  Interstellar        movie amazing heart totally thrilling think  Musical   \n",
              "3      Avengers    movie scar star totally unexpected think oh god   Action   \n",
              "4    La La Land       movie amazing heart totally boring think way    Drama   \n",
              "\n",
              "                                    Tokenized Review  \\\n",
              "0  ['movie', 'amazing', 'laughing', 'totally', 't...   \n",
              "1  ['movie', 'scar', 'mind-blown', 'totally', 'mi...   \n",
              "2  ['movie', 'amazing', 'heart', 'totally', 'thri...   \n",
              "3  ['movie', 'scar', 'star', 'totally', 'unexpect...   \n",
              "4  ['movie', 'amazing', 'heart', 'totally', 'bori...   \n",
              "\n",
              "                                      Stemmed Review  \\\n",
              "0  ['movi', 'amaz', 'laugh', 'total', 'terrifi', ...   \n",
              "1  ['movi', 'scar', 'mind-blown', 'total', 'mindb...   \n",
              "2  ['movi', 'amaz', 'heart', 'total', 'thrill', '...   \n",
              "3  ['movi', 'scar', 'star', 'total', 'unexpect', ...   \n",
              "4  ['movi', 'amaz', 'heart', 'total', 'bore', 'th...   \n",
              "\n",
              "                                   Lemmatized Review  \n",
              "0  ['movie', 'amazing', 'laughing', 'totally', 't...  \n",
              "1  ['movie', 'scar', 'mind-blown', 'totally', 'mi...  \n",
              "2  ['movie', 'amazing', 'heart', 'totally', 'thri...  \n",
              "3  ['movie', 'scar', 'star', 'totally', 'unexpect...  \n",
              "4  ['movie', 'amazing', 'heart', 'totally', 'bori...  "
            ],
            "text/html": [
              "\n",
              "  <div id=\"df-6f885eee-722c-4b66-9c28-429edf3fa97e\" class=\"colab-df-container\">\n",
              "    <div>\n",
              "<style scoped>\n",
              "    .dataframe tbody tr th:only-of-type {\n",
              "        vertical-align: middle;\n",
              "    }\n",
              "\n",
              "    .dataframe tbody tr th {\n",
              "        vertical-align: top;\n",
              "    }\n",
              "\n",
              "    .dataframe thead th {\n",
              "        text-align: right;\n",
              "    }\n",
              "</style>\n",
              "<table border=\"1\" class=\"dataframe\">\n",
              "  <thead>\n",
              "    <tr style=\"text-align: right;\">\n",
              "      <th></th>\n",
              "      <th>Movie Name</th>\n",
              "      <th>Review</th>\n",
              "      <th>Genre</th>\n",
              "      <th>Tokenized Review</th>\n",
              "      <th>Stemmed Review</th>\n",
              "      <th>Lemmatized Review</th>\n",
              "    </tr>\n",
              "  </thead>\n",
              "  <tbody>\n",
              "    <tr>\n",
              "      <th>0</th>\n",
              "      <td>Fight Club</td>\n",
              "      <td>movie amazing laughing totally terrifying think</td>\n",
              "      <td>Drama</td>\n",
              "      <td>['movie', 'amazing', 'laughing', 'totally', 't...</td>\n",
              "      <td>['movi', 'amaz', 'laugh', 'total', 'terrifi', ...</td>\n",
              "      <td>['movie', 'amazing', 'laughing', 'totally', 't...</td>\n",
              "    </tr>\n",
              "    <tr>\n",
              "      <th>1</th>\n",
              "      <td>Deadpool</td>\n",
              "      <td>movie scar mind-blown totally mindblowing thin...</td>\n",
              "      <td>Horror</td>\n",
              "      <td>['movie', 'scar', 'mind-blown', 'totally', 'mi...</td>\n",
              "      <td>['movi', 'scar', 'mind-blown', 'total', 'mindb...</td>\n",
              "      <td>['movie', 'scar', 'mind-blown', 'totally', 'mi...</td>\n",
              "    </tr>\n",
              "    <tr>\n",
              "      <th>2</th>\n",
              "      <td>Interstellar</td>\n",
              "      <td>movie amazing heart totally thrilling think</td>\n",
              "      <td>Musical</td>\n",
              "      <td>['movie', 'amazing', 'heart', 'totally', 'thri...</td>\n",
              "      <td>['movi', 'amaz', 'heart', 'total', 'thrill', '...</td>\n",
              "      <td>['movie', 'amazing', 'heart', 'totally', 'thri...</td>\n",
              "    </tr>\n",
              "    <tr>\n",
              "      <th>3</th>\n",
              "      <td>Avengers</td>\n",
              "      <td>movie scar star totally unexpected think oh god</td>\n",
              "      <td>Action</td>\n",
              "      <td>['movie', 'scar', 'star', 'totally', 'unexpect...</td>\n",
              "      <td>['movi', 'scar', 'star', 'total', 'unexpect', ...</td>\n",
              "      <td>['movie', 'scar', 'star', 'totally', 'unexpect...</td>\n",
              "    </tr>\n",
              "    <tr>\n",
              "      <th>4</th>\n",
              "      <td>La La Land</td>\n",
              "      <td>movie amazing heart totally boring think way</td>\n",
              "      <td>Drama</td>\n",
              "      <td>['movie', 'amazing', 'heart', 'totally', 'bori...</td>\n",
              "      <td>['movi', 'amaz', 'heart', 'total', 'bore', 'th...</td>\n",
              "      <td>['movie', 'amazing', 'heart', 'totally', 'bori...</td>\n",
              "    </tr>\n",
              "  </tbody>\n",
              "</table>\n",
              "</div>\n",
              "    <div class=\"colab-df-buttons\">\n",
              "\n",
              "  <div class=\"colab-df-container\">\n",
              "    <button class=\"colab-df-convert\" onclick=\"convertToInteractive('df-6f885eee-722c-4b66-9c28-429edf3fa97e')\"\n",
              "            title=\"Convert this dataframe to an interactive table.\"\n",
              "            style=\"display:none;\">\n",
              "\n",
              "  <svg xmlns=\"http://www.w3.org/2000/svg\" height=\"24px\" viewBox=\"0 -960 960 960\">\n",
              "    <path d=\"M120-120v-720h720v720H120Zm60-500h600v-160H180v160Zm220 220h160v-160H400v160Zm0 220h160v-160H400v160ZM180-400h160v-160H180v160Zm440 0h160v-160H620v160ZM180-180h160v-160H180v160Zm440 0h160v-160H620v160Z\"/>\n",
              "  </svg>\n",
              "    </button>\n",
              "\n",
              "  <style>\n",
              "    .colab-df-container {\n",
              "      display:flex;\n",
              "      gap: 12px;\n",
              "    }\n",
              "\n",
              "    .colab-df-convert {\n",
              "      background-color: #E8F0FE;\n",
              "      border: none;\n",
              "      border-radius: 50%;\n",
              "      cursor: pointer;\n",
              "      display: none;\n",
              "      fill: #1967D2;\n",
              "      height: 32px;\n",
              "      padding: 0 0 0 0;\n",
              "      width: 32px;\n",
              "    }\n",
              "\n",
              "    .colab-df-convert:hover {\n",
              "      background-color: #E2EBFA;\n",
              "      box-shadow: 0px 1px 2px rgba(60, 64, 67, 0.3), 0px 1px 3px 1px rgba(60, 64, 67, 0.15);\n",
              "      fill: #174EA6;\n",
              "    }\n",
              "\n",
              "    .colab-df-buttons div {\n",
              "      margin-bottom: 4px;\n",
              "    }\n",
              "\n",
              "    [theme=dark] .colab-df-convert {\n",
              "      background-color: #3B4455;\n",
              "      fill: #D2E3FC;\n",
              "    }\n",
              "\n",
              "    [theme=dark] .colab-df-convert:hover {\n",
              "      background-color: #434B5C;\n",
              "      box-shadow: 0px 1px 3px 1px rgba(0, 0, 0, 0.15);\n",
              "      filter: drop-shadow(0px 1px 2px rgba(0, 0, 0, 0.3));\n",
              "      fill: #FFFFFF;\n",
              "    }\n",
              "  </style>\n",
              "\n",
              "    <script>\n",
              "      const buttonEl =\n",
              "        document.querySelector('#df-6f885eee-722c-4b66-9c28-429edf3fa97e button.colab-df-convert');\n",
              "      buttonEl.style.display =\n",
              "        google.colab.kernel.accessAllowed ? 'block' : 'none';\n",
              "\n",
              "      async function convertToInteractive(key) {\n",
              "        const element = document.querySelector('#df-6f885eee-722c-4b66-9c28-429edf3fa97e');\n",
              "        const dataTable =\n",
              "          await google.colab.kernel.invokeFunction('convertToInteractive',\n",
              "                                                    [key], {});\n",
              "        if (!dataTable) return;\n",
              "\n",
              "        const docLinkHtml = 'Like what you see? Visit the ' +\n",
              "          '<a target=\"_blank\" href=https://colab.research.google.com/notebooks/data_table.ipynb>data table notebook</a>'\n",
              "          + ' to learn more about interactive tables.';\n",
              "        element.innerHTML = '';\n",
              "        dataTable['output_type'] = 'display_data';\n",
              "        await google.colab.output.renderOutput(dataTable, element);\n",
              "        const docLink = document.createElement('div');\n",
              "        docLink.innerHTML = docLinkHtml;\n",
              "        element.appendChild(docLink);\n",
              "      }\n",
              "    </script>\n",
              "  </div>\n",
              "\n",
              "\n",
              "<div id=\"df-0ae10f06-4eff-492a-98d3-b2f5b66aacc5\">\n",
              "  <button class=\"colab-df-quickchart\" onclick=\"quickchart('df-0ae10f06-4eff-492a-98d3-b2f5b66aacc5')\"\n",
              "            title=\"Suggest charts\"\n",
              "            style=\"display:none;\">\n",
              "\n",
              "<svg xmlns=\"http://www.w3.org/2000/svg\" height=\"24px\"viewBox=\"0 0 24 24\"\n",
              "     width=\"24px\">\n",
              "    <g>\n",
              "        <path d=\"M19 3H5c-1.1 0-2 .9-2 2v14c0 1.1.9 2 2 2h14c1.1 0 2-.9 2-2V5c0-1.1-.9-2-2-2zM9 17H7v-7h2v7zm4 0h-2V7h2v10zm4 0h-2v-4h2v4z\"/>\n",
              "    </g>\n",
              "</svg>\n",
              "  </button>\n",
              "\n",
              "<style>\n",
              "  .colab-df-quickchart {\n",
              "      --bg-color: #E8F0FE;\n",
              "      --fill-color: #1967D2;\n",
              "      --hover-bg-color: #E2EBFA;\n",
              "      --hover-fill-color: #174EA6;\n",
              "      --disabled-fill-color: #AAA;\n",
              "      --disabled-bg-color: #DDD;\n",
              "  }\n",
              "\n",
              "  [theme=dark] .colab-df-quickchart {\n",
              "      --bg-color: #3B4455;\n",
              "      --fill-color: #D2E3FC;\n",
              "      --hover-bg-color: #434B5C;\n",
              "      --hover-fill-color: #FFFFFF;\n",
              "      --disabled-bg-color: #3B4455;\n",
              "      --disabled-fill-color: #666;\n",
              "  }\n",
              "\n",
              "  .colab-df-quickchart {\n",
              "    background-color: var(--bg-color);\n",
              "    border: none;\n",
              "    border-radius: 50%;\n",
              "    cursor: pointer;\n",
              "    display: none;\n",
              "    fill: var(--fill-color);\n",
              "    height: 32px;\n",
              "    padding: 0;\n",
              "    width: 32px;\n",
              "  }\n",
              "\n",
              "  .colab-df-quickchart:hover {\n",
              "    background-color: var(--hover-bg-color);\n",
              "    box-shadow: 0 1px 2px rgba(60, 64, 67, 0.3), 0 1px 3px 1px rgba(60, 64, 67, 0.15);\n",
              "    fill: var(--button-hover-fill-color);\n",
              "  }\n",
              "\n",
              "  .colab-df-quickchart-complete:disabled,\n",
              "  .colab-df-quickchart-complete:disabled:hover {\n",
              "    background-color: var(--disabled-bg-color);\n",
              "    fill: var(--disabled-fill-color);\n",
              "    box-shadow: none;\n",
              "  }\n",
              "\n",
              "  .colab-df-spinner {\n",
              "    border: 2px solid var(--fill-color);\n",
              "    border-color: transparent;\n",
              "    border-bottom-color: var(--fill-color);\n",
              "    animation:\n",
              "      spin 1s steps(1) infinite;\n",
              "  }\n",
              "\n",
              "  @keyframes spin {\n",
              "    0% {\n",
              "      border-color: transparent;\n",
              "      border-bottom-color: var(--fill-color);\n",
              "      border-left-color: var(--fill-color);\n",
              "    }\n",
              "    20% {\n",
              "      border-color: transparent;\n",
              "      border-left-color: var(--fill-color);\n",
              "      border-top-color: var(--fill-color);\n",
              "    }\n",
              "    30% {\n",
              "      border-color: transparent;\n",
              "      border-left-color: var(--fill-color);\n",
              "      border-top-color: var(--fill-color);\n",
              "      border-right-color: var(--fill-color);\n",
              "    }\n",
              "    40% {\n",
              "      border-color: transparent;\n",
              "      border-right-color: var(--fill-color);\n",
              "      border-top-color: var(--fill-color);\n",
              "    }\n",
              "    60% {\n",
              "      border-color: transparent;\n",
              "      border-right-color: var(--fill-color);\n",
              "    }\n",
              "    80% {\n",
              "      border-color: transparent;\n",
              "      border-right-color: var(--fill-color);\n",
              "      border-bottom-color: var(--fill-color);\n",
              "    }\n",
              "    90% {\n",
              "      border-color: transparent;\n",
              "      border-bottom-color: var(--fill-color);\n",
              "    }\n",
              "  }\n",
              "</style>\n",
              "\n",
              "  <script>\n",
              "    async function quickchart(key) {\n",
              "      const quickchartButtonEl =\n",
              "        document.querySelector('#' + key + ' button');\n",
              "      quickchartButtonEl.disabled = true;  // To prevent multiple clicks.\n",
              "      quickchartButtonEl.classList.add('colab-df-spinner');\n",
              "      try {\n",
              "        const charts = await google.colab.kernel.invokeFunction(\n",
              "            'suggestCharts', [key], {});\n",
              "      } catch (error) {\n",
              "        console.error('Error during call to suggestCharts:', error);\n",
              "      }\n",
              "      quickchartButtonEl.classList.remove('colab-df-spinner');\n",
              "      quickchartButtonEl.classList.add('colab-df-quickchart-complete');\n",
              "    }\n",
              "    (() => {\n",
              "      let quickchartButtonEl =\n",
              "        document.querySelector('#df-0ae10f06-4eff-492a-98d3-b2f5b66aacc5 button');\n",
              "      quickchartButtonEl.style.display =\n",
              "        google.colab.kernel.accessAllowed ? 'block' : 'none';\n",
              "    })();\n",
              "  </script>\n",
              "</div>\n",
              "\n",
              "    </div>\n",
              "  </div>\n"
            ],
            "application/vnd.google.colaboratory.intrinsic+json": {
              "type": "dataframe",
              "variable_name": "df1",
              "summary": "{\n  \"name\": \"df1\",\n  \"rows\": 100,\n  \"fields\": [\n    {\n      \"column\": \"Movie Name\",\n      \"properties\": {\n        \"dtype\": \"category\",\n        \"num_unique_values\": 20,\n        \"samples\": [\n          \"Fight Club\",\n          \"The Dark Knight\",\n          \"Pulp Fiction\"\n        ],\n        \"semantic_type\": \"\",\n        \"description\": \"\"\n      }\n    },\n    {\n      \"column\": \"Review\",\n      \"properties\": {\n        \"dtype\": \"string\",\n        \"num_unique_values\": 95,\n        \"samples\": [\n          \"movie amazing fire totally boring think lui\",\n          \"movie scar love totally boring think dont\",\n          \"movie amazing laughing totally terrifying think grm\"\n        ],\n        \"semantic_type\": \"\",\n        \"description\": \"\"\n      }\n    },\n    {\n      \"column\": \"Genre\",\n      \"properties\": {\n        \"dtype\": \"category\",\n        \"num_unique_values\": 9,\n        \"samples\": [\n          \"Mystery\",\n          \"Horror\",\n          \"Romantic\"\n        ],\n        \"semantic_type\": \"\",\n        \"description\": \"\"\n      }\n    },\n    {\n      \"column\": \"Tokenized Review\",\n      \"properties\": {\n        \"dtype\": \"string\",\n        \"num_unique_values\": 95,\n        \"samples\": [\n          \"['movie', 'amazing', 'fire', 'totally', 'boring', 'think', 'lui']\",\n          \"['movie', 'scar', 'love', 'totally', 'boring', 'think', 'dont']\",\n          \"['movie', 'amazing', 'laughing', 'totally', 'terrifying', 'think', 'grm']\"\n        ],\n        \"semantic_type\": \"\",\n        \"description\": \"\"\n      }\n    },\n    {\n      \"column\": \"Stemmed Review\",\n      \"properties\": {\n        \"dtype\": \"string\",\n        \"num_unique_values\": 95,\n        \"samples\": [\n          \"['movi', 'amaz', 'fire', 'total', 'bore', 'think', 'lui']\",\n          \"['movi', 'scar', 'love', 'total', 'bore', 'think', 'dont']\",\n          \"['movi', 'amaz', 'laugh', 'total', 'terrifi', 'think', 'grm']\"\n        ],\n        \"semantic_type\": \"\",\n        \"description\": \"\"\n      }\n    },\n    {\n      \"column\": \"Lemmatized Review\",\n      \"properties\": {\n        \"dtype\": \"string\",\n        \"num_unique_values\": 95,\n        \"samples\": [\n          \"['movie', 'amazing', 'fire', 'totally', 'boring', 'think', 'lui']\",\n          \"['movie', 'scar', 'love', 'totally', 'boring', 'think', 'dont']\",\n          \"['movie', 'amazing', 'laughing', 'totally', 'terrifying', 'think', 'grm']\"\n        ],\n        \"semantic_type\": \"\",\n        \"description\": \"\"\n      }\n    }\n  ]\n}"
            }
          },
          "metadata": {},
          "execution_count": 16
        }
      ]
    },
    {
      "cell_type": "code",
      "source": [],
      "metadata": {
        "id": "z7nnTfMk7MXs"
      },
      "execution_count": null,
      "outputs": []
    }
  ]
}