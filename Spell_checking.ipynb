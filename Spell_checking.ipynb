{
  "nbformat": 4,
  "nbformat_minor": 0,
  "metadata": {
    "colab": {
      "provenance": [],
      "authorship_tag": "ABX9TyNn1mCJdNr6RsUeYxAW3N1a",
      "include_colab_link": true
    },
    "kernelspec": {
      "name": "python3",
      "display_name": "Python 3"
    },
    "language_info": {
      "name": "python"
    }
  },
  "cells": [
    {
      "cell_type": "markdown",
      "metadata": {
        "id": "view-in-github",
        "colab_type": "text"
      },
      "source": [
        "<a href=\"https://colab.research.google.com/github/Ehtisham1053/Natural-Language-Processing/blob/main/Spell_checking.ipynb\" target=\"_parent\"><img src=\"https://colab.research.google.com/assets/colab-badge.svg\" alt=\"Open In Colab\"/></a>"
      ]
    },
    {
      "cell_type": "markdown",
      "source": [
        "#🔍 Spell Checking in NLP using Famous Libraries\n",
        "Spell checking is an important text preprocessing step in Natural Language Processing (NLP). It helps improve the quality of text by correcting misspelled words before further processing.\n",
        "\n",
        "In Python, some famous libraries for spell checking and correction are:\n",
        "\n",
        "* TextBlob\n",
        "* pyspellchecker\n",
        "* SymSpell (Fastest for large text)\n",
        "* Hunspell (Used in MS Word, LibreOffice)\n",
        "* Aspell (Linux-based spell checker)"
      ],
      "metadata": {
        "id": "Y3cCF-gVg1Ru"
      }
    },
    {
      "cell_type": "markdown",
      "source": [
        "## 1️⃣ Using TextBlob for Spell Checking"
      ],
      "metadata": {
        "id": "EcsXZj7Jg8PU"
      }
    },
    {
      "cell_type": "code",
      "source": [
        "!pip install textblob"
      ],
      "metadata": {
        "colab": {
          "base_uri": "https://localhost:8080/"
        },
        "id": "rCK9a-RKhCr8",
        "outputId": "ec276620-27e3-4109-fef4-9d867e2cc147"
      },
      "execution_count": 2,
      "outputs": [
        {
          "output_type": "stream",
          "name": "stdout",
          "text": [
            "Requirement already satisfied: textblob in /usr/local/lib/python3.11/dist-packages (0.19.0)\n",
            "Requirement already satisfied: nltk>=3.9 in /usr/local/lib/python3.11/dist-packages (from textblob) (3.9.1)\n",
            "Requirement already satisfied: click in /usr/local/lib/python3.11/dist-packages (from nltk>=3.9->textblob) (8.1.8)\n",
            "Requirement already satisfied: joblib in /usr/local/lib/python3.11/dist-packages (from nltk>=3.9->textblob) (1.4.2)\n",
            "Requirement already satisfied: regex>=2021.8.3 in /usr/local/lib/python3.11/dist-packages (from nltk>=3.9->textblob) (2024.11.6)\n",
            "Requirement already satisfied: tqdm in /usr/local/lib/python3.11/dist-packages (from nltk>=3.9->textblob) (4.67.1)\n"
          ]
        }
      ]
    },
    {
      "cell_type": "code",
      "execution_count": 3,
      "metadata": {
        "colab": {
          "base_uri": "https://localhost:8080/"
        },
        "id": "YFPvr77qgdod",
        "outputId": "13396807-4b57-47c9-fa86-72dd1247be76"
      },
      "outputs": [
        {
          "output_type": "stream",
          "name": "stdout",
          "text": [
            "Original: Ths is a beautful day to lern NLP.\n",
            "Corrected: The is a beautiful day to learn NLP.\n"
          ]
        }
      ],
      "source": [
        "\n",
        "from textblob import TextBlob\n",
        "\n",
        "def correct_spelling_textblob(text):\n",
        "    blob = TextBlob(text)\n",
        "    corrected_text = blob.correct()\n",
        "    return str(corrected_text)\n",
        "\n",
        "\n",
        "text = \"Ths is a beautful day to lern NLP.\"\n",
        "corrected_text = correct_spelling_textblob(text)\n",
        "\n",
        "print(\"Original:\", text)\n",
        "print(\"Corrected:\", corrected_text)\n"
      ]
    },
    {
      "cell_type": "markdown",
      "source": [
        "✅ Pros: Simple and easy to use.\n",
        "❌ Cons: Slow on large text datasets."
      ],
      "metadata": {
        "id": "x0KyP78HhMhv"
      }
    },
    {
      "cell_type": "markdown",
      "source": [
        "## 2️⃣ Using pyspellchecker for Faster Spell Checking"
      ],
      "metadata": {
        "id": "IpCrXiguhO8u"
      }
    },
    {
      "cell_type": "code",
      "source": [
        "pip install pyspellchecker\n"
      ],
      "metadata": {
        "colab": {
          "base_uri": "https://localhost:8080/"
        },
        "id": "sZWYFABohA4C",
        "outputId": "3eaf2fc0-acb3-4135-f78e-e05bdfcd47fa"
      },
      "execution_count": 4,
      "outputs": [
        {
          "output_type": "stream",
          "name": "stdout",
          "text": [
            "Collecting pyspellchecker\n",
            "  Downloading pyspellchecker-0.8.2-py3-none-any.whl.metadata (9.4 kB)\n",
            "Downloading pyspellchecker-0.8.2-py3-none-any.whl (7.1 MB)\n",
            "\u001b[2K   \u001b[90m━━━━━━━━━━━━━━━━━━━━━━━━━━━━━━━━━━━━━━━━\u001b[0m \u001b[32m7.1/7.1 MB\u001b[0m \u001b[31m43.0 MB/s\u001b[0m eta \u001b[36m0:00:00\u001b[0m\n",
            "\u001b[?25hInstalling collected packages: pyspellchecker\n",
            "Successfully installed pyspellchecker-0.8.2\n"
          ]
        }
      ]
    },
    {
      "cell_type": "code",
      "source": [
        "from spellchecker import SpellChecker\n",
        "\n",
        "# Initialize the spell checker\n",
        "spell = SpellChecker()\n",
        "\n",
        "# Function to correct spelling using pyspellchecker\n",
        "def correct_spelling_pyspellchecker(text):\n",
        "    words = text.split()\n",
        "    corrected_words = [spell.correction(word) if spell.correction(word) else word for word in words]\n",
        "    return \" \".join(corrected_words)\n",
        "\n",
        "\n",
        "text = \"Ths is a beautful day to lern python.\"\n",
        "corrected_text = correct_spelling_pyspellchecker(text)\n",
        "\n",
        "print(\"Original:\", text)\n",
        "print(\"Corrected:\", corrected_text)\n"
      ],
      "metadata": {
        "colab": {
          "base_uri": "https://localhost:8080/"
        },
        "id": "uFs56tlnhVwV",
        "outputId": "0b65e564-324f-4f49-a6bd-4c8ac1f5b8a1"
      },
      "execution_count": 11,
      "outputs": [
        {
          "output_type": "stream",
          "name": "stdout",
          "text": [
            "Original: Ths is a beautful day to lern python.\n",
            "Corrected: the is a beautiful day to learn python\n"
          ]
        }
      ]
    },
    {
      "cell_type": "code",
      "source": [],
      "metadata": {
        "id": "trJcewqhhg14"
      },
      "execution_count": null,
      "outputs": []
    }
  ]
}