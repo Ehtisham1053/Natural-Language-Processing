{
  "nbformat": 4,
  "nbformat_minor": 0,
  "metadata": {
    "colab": {
      "provenance": [],
      "authorship_tag": "ABX9TyNhALxBFMd/gQqVOB7JV7Me",
      "include_colab_link": true
    },
    "kernelspec": {
      "name": "python3",
      "display_name": "Python 3"
    },
    "language_info": {
      "name": "python"
    }
  },
  "cells": [
    {
      "cell_type": "markdown",
      "metadata": {
        "id": "view-in-github",
        "colab_type": "text"
      },
      "source": [
        "<a href=\"https://colab.research.google.com/github/Ehtisham1053/Natural-Language-Processing/blob/main/Lowercasing.ipynb\" target=\"_parent\"><img src=\"https://colab.research.google.com/assets/colab-badge.svg\" alt=\"Open In Colab\"/></a>"
      ]
    },
    {
      "cell_type": "markdown",
      "source": [
        "#Lowercasing in Text Preprocessing\n",
        "##What is Lowercasing?\n",
        "Lowercasing is the process of converting all text into lowercase. This step is crucial because NLP models treat uppercase and lowercase letters as different entities, which can lead to inconsistencies in text processing.\n",
        "\n",
        "##Why is Lowercasing Important?\n",
        "* Standardization – Makes the text uniform, avoiding mismatched words.\n",
        "* Reduces Redundancy – \"NLP\", \"nlp\", and \"Nlp\" are treated as the same.\n",
        "* Improves Model Accuracy – Prevents the model from treating variations of the same word as different words."
      ],
      "metadata": {
        "id": "rVR4J1U6KOWy"
      }
    },
    {
      "cell_type": "markdown",
      "source": [
        "### Basic Example"
      ],
      "metadata": {
        "id": "5HUZypbDKYhg"
      }
    },
    {
      "cell_type": "code",
      "execution_count": 1,
      "metadata": {
        "id": "eUc0GoPZKACH",
        "outputId": "f7a785ff-e157-4144-bd79-11b01016fb3a",
        "colab": {
          "base_uri": "https://localhost:8080/"
        }
      },
      "outputs": [
        {
          "output_type": "stream",
          "name": "stdout",
          "text": [
            "Lowercased Text: natural language processing is amazing!\n"
          ]
        }
      ],
      "source": [
        "text = \"Natural Language Processing is AMAZING!\"\n",
        "lower_text = text.lower()\n",
        "print(\"Lowercased Text:\", lower_text)\n"
      ]
    },
    {
      "cell_type": "code",
      "source": [],
      "metadata": {
        "id": "JDbZKqjfKa2O"
      },
      "execution_count": null,
      "outputs": []
    }
  ]
}