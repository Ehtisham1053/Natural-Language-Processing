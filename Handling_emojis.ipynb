{
  "nbformat": 4,
  "nbformat_minor": 0,
  "metadata": {
    "colab": {
      "provenance": [],
      "authorship_tag": "ABX9TyNYo7kF6niSf2FLbIcw+af7",
      "include_colab_link": true
    },
    "kernelspec": {
      "name": "python3",
      "display_name": "Python 3"
    },
    "language_info": {
      "name": "python"
    }
  },
  "cells": [
    {
      "cell_type": "markdown",
      "metadata": {
        "id": "view-in-github",
        "colab_type": "text"
      },
      "source": [
        "<a href=\"https://colab.research.google.com/github/Ehtisham1053/Natural-Language-Processing/blob/main/Handling_emojis.ipynb\" target=\"_parent\"><img src=\"https://colab.research.google.com/assets/colab-badge.svg\" alt=\"Open In Colab\"/></a>"
      ]
    },
    {
      "cell_type": "markdown",
      "source": [
        "#😀 Handling Emojis in NLP\n",
        "Emojis are widely used in text communication and can convey emotions or add context. In text preprocessing, we have two main approaches:\n",
        "\n",
        "##📌 1. Remove Emojis Completely\n",
        "This is useful when emojis do not contribute to the meaning of the text and should be ignored.\n",
        "\n",
        "##📌 2. Replace Emojis with Their Meanings\n",
        "This is useful when we want to preserve the sentiment or context conveyed by the emoji."
      ],
      "metadata": {
        "id": "OzhYrevClZg6"
      }
    },
    {
      "cell_type": "markdown",
      "source": [
        "## 1️⃣ Removing All Emojis"
      ],
      "metadata": {
        "id": "cNbRZyyqlg1J"
      }
    },
    {
      "cell_type": "code",
      "execution_count": 1,
      "metadata": {
        "colab": {
          "base_uri": "https://localhost:8080/"
        },
        "id": "3Y35KpXkjgiJ",
        "outputId": "efb1a4aa-0c9f-42d9-b034-680fca5c9c45"
      },
      "outputs": [
        {
          "output_type": "stream",
          "name": "stdout",
          "text": [
            "Collecting emoji\n",
            "  Downloading emoji-2.14.1-py3-none-any.whl.metadata (5.7 kB)\n",
            "Downloading emoji-2.14.1-py3-none-any.whl (590 kB)\n",
            "\u001b[?25l   \u001b[90m━━━━━━━━━━━━━━━━━━━━━━━━━━━━━━━━━━━━━━━━\u001b[0m \u001b[32m0.0/590.6 kB\u001b[0m \u001b[31m?\u001b[0m eta \u001b[36m-:--:--\u001b[0m\r\u001b[2K   \u001b[91m━━━━━━━━━━━━━━━━━━━━━━━━━━━\u001b[0m\u001b[90m╺\u001b[0m\u001b[90m━━━━━━━━━━━━\u001b[0m \u001b[32m399.4/590.6 kB\u001b[0m \u001b[31m10.8 MB/s\u001b[0m eta \u001b[36m0:00:01\u001b[0m\r\u001b[2K   \u001b[90m━━━━━━━━━━━━━━━━━━━━━━━━━━━━━━━━━━━━━━━━\u001b[0m \u001b[32m590.6/590.6 kB\u001b[0m \u001b[31m7.8 MB/s\u001b[0m eta \u001b[36m0:00:00\u001b[0m\n",
            "\u001b[?25hInstalling collected packages: emoji\n",
            "Successfully installed emoji-2.14.1\n"
          ]
        }
      ],
      "source": [
        "!pip install emoji"
      ]
    },
    {
      "cell_type": "code",
      "source": [
        "import re\n",
        "import emoji\n",
        "\n",
        "# Sample text\n",
        "text = \"I love NLP! 😍 It's amazing 🚀🔥\"\n",
        "\n",
        "def remove_emojis(text):\n",
        "    return re.sub(r'[^\\w\\s,]', '', text)\n",
        "\n",
        "def remove_emojis_emoji_lib(text):\n",
        "    return emoji.replace_emoji(text, replace='')\n",
        "\n",
        "text_without_emojis = remove_emojis(text)\n",
        "text_without_emojis_lib = remove_emojis_emoji_lib(text)"
      ],
      "metadata": {
        "id": "Ftxgz-yIll--"
      },
      "execution_count": 2,
      "outputs": []
    },
    {
      "cell_type": "code",
      "source": [
        "print(\"Original Text:\", text)\n",
        "print(\"After Removing Emojis (Regex):\", text_without_emojis)\n",
        "print(\"After Removing Emojis (Emoji Library):\", text_without_emojis_lib)"
      ],
      "metadata": {
        "colab": {
          "base_uri": "https://localhost:8080/"
        },
        "id": "KR-QLm4Wl4Fu",
        "outputId": "6f2aa0a7-e205-4fb5-e1be-3e951140ce4a"
      },
      "execution_count": 4,
      "outputs": [
        {
          "output_type": "stream",
          "name": "stdout",
          "text": [
            "Original Text: I love NLP! 😍 It's amazing 🚀🔥\n",
            "After Removing Emojis (Regex): I love NLP  Its amazing \n",
            "After Removing Emojis (Emoji Library): I love NLP!  It's amazing \n"
          ]
        }
      ]
    },
    {
      "cell_type": "markdown",
      "source": [
        "✅ Pros: Simple and fast.\n",
        "❌ Cons: Loses the emotional meaning of emojis."
      ],
      "metadata": {
        "id": "X4v2nF8xm-QK"
      }
    },
    {
      "cell_type": "code",
      "source": [],
      "metadata": {
        "id": "mizuSPiGm-ws"
      },
      "execution_count": null,
      "outputs": []
    },
    {
      "cell_type": "markdown",
      "source": [
        "## 2️⃣ Replacing Emojis with Their Meanings"
      ],
      "metadata": {
        "id": "D4J9LRiNnBLZ"
      }
    },
    {
      "cell_type": "code",
      "source": [
        "import emoji\n",
        "\n",
        "text = \"I love NLP! 😍 It's amazing 🚀🔥\"\n",
        "\n",
        "def replace_emojis_with_text(text):\n",
        "    return emoji.demojize(text, delimiters=(\" \", \" \"))\n",
        "\n",
        "text_with_emoji_meanings = replace_emojis_with_text(text)\n",
        "\n",
        "# Print results\n",
        "print(\"Original Text:\", text)\n",
        "print(\"After Replacing Emojis:\", text_with_emoji_meanings)"
      ],
      "metadata": {
        "colab": {
          "base_uri": "https://localhost:8080/"
        },
        "id": "QMu4rXAvnB4k",
        "outputId": "40068f62-1af7-4212-e6a8-63822c459394"
      },
      "execution_count": 6,
      "outputs": [
        {
          "output_type": "stream",
          "name": "stdout",
          "text": [
            "Original Text: I love NLP! 😍 It's amazing 🚀🔥\n",
            "After Replacing Emojis: I love NLP!  smiling_face_with_heart-eyes  It's amazing  rocket  fire \n"
          ]
        }
      ]
    },
    {
      "cell_type": "code",
      "source": [],
      "metadata": {
        "id": "p-OjWZWboekZ"
      },
      "execution_count": null,
      "outputs": []
    }
  ]
}